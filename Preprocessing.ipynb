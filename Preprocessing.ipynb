{
 "cells": [
  {
   "cell_type": "code",
   "execution_count": 1,
   "id": "66c51c63-0485-4c4c-a521-b3fb42d920b2",
   "metadata": {},
   "outputs": [],
   "source": [
    "import pandas as pd\n",
    "import numpy as np\n",
    "from sklearn.preprocessing import StandardScaler\n",
    "#scaler = StandardScaler()"
   ]
  },
  {
   "cell_type": "code",
   "execution_count": 3,
   "id": "1b21a9d0-156e-447f-8245-557c2af27489",
   "metadata": {},
   "outputs": [],
   "source": [
    "df_train = pd.read_csv(\"train_cleaned_beforesplit.csv\")\n",
    "df_test = pd.read_csv(\"test_cleaned_beforesplit.csv\")"
   ]
  },
  {
   "cell_type": "markdown",
   "id": "7c54f601-0006-4827-8a4c-c569716814c5",
   "metadata": {},
   "source": [
    "# Split Data"
   ]
  },
  {
   "cell_type": "code",
   "execution_count": null,
   "id": "2ffc0180-4915-45af-9c00-7259fd051820",
   "metadata": {},
   "outputs": [],
   "source": [
    "def train_model(X,y,X_test,folds,model):\n",
    "    scores=[]\n",
    "    for fold_n, (train_index, valid_index) in enumerate(folds.split(X, y)):\n",
    "        X_train,X_valid = X[train_index],X[valid_index]\n",
    "        y_train,y_valid = y[train_index],y[valid_index]\n",
    "        \n",
    "        scaler = StandardScaler()\n",
    "        X_train = scaler.fit_transform(X_train)\n",
    "        X_vaid = scaler.transform(X_valid)\n",
    "        X_test = scaler.transform(X_test)\n",
    "        model.fit(X_train,y_train)\n",
    "        y_pred_valid = model.predict(X_valid).reshape(-1,)\n",
    "\n",
    "        scores.append(roc_auc_score(y_valid, y_pred_valid))\n",
    "\n",
    "    print('CV mean score: {0:.4f}, std: {1:.4f}.'.format(np.mean(scores), np.std(scores)))"
   ]
  },
  {
   "cell_type": "markdown",
   "id": "c4fb5442-de10-4bd6-b587-811370728001",
   "metadata": {},
   "source": [
    "# df_train"
   ]
  },
  {
   "cell_type": "markdown",
   "id": "deb3ac18-646a-494f-942f-a42326219f2b",
   "metadata": {},
   "source": [
    "## developerCountry"
   ]
  },
  {
   "cell_type": "code",
   "execution_count": null,
   "id": "a495bca4-8233-4e88-86ef-3f2294934660",
   "metadata": {},
   "outputs": [],
   "source": []
  },
  {
   "cell_type": "markdown",
   "id": "88aa7bc3-ff44-40b2-a7c9-cbfffc0efe58",
   "metadata": {},
   "source": [
    "# df_test"
   ]
  }
 ],
 "metadata": {
  "kernelspec": {
   "display_name": "Python 3 (ipykernel)",
   "language": "python",
   "name": "python3"
  },
  "language_info": {
   "codemirror_mode": {
    "name": "ipython",
    "version": 3
   },
   "file_extension": ".py",
   "mimetype": "text/x-python",
   "name": "python",
   "nbconvert_exporter": "python",
   "pygments_lexer": "ipython3",
   "version": "3.12.5"
  }
 },
 "nbformat": 4,
 "nbformat_minor": 5
}
